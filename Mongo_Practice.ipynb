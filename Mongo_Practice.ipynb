{
 "cells": [
  {
   "cell_type": "code",
   "execution_count": null,
   "id": "646fe145",
   "metadata": {},
   "outputs": [],
   "source": [
    "# conda activate PythonData"
   ]
  },
  {
   "cell_type": "code",
   "execution_count": null,
   "id": "d5d060b9",
   "metadata": {},
   "outputs": [],
   "source": [
    "# mongod\n",
    "#make sure you are using bash shell\n"
   ]
  },
  {
   "cell_type": "code",
   "execution_count": null,
   "id": "05f01dcc",
   "metadata": {},
   "outputs": [],
   "source": [
    "# new window \n",
    "# mongo"
   ]
  },
  {
   "cell_type": "code",
   "execution_count": null,
   "id": "fa693e6f",
   "metadata": {},
   "outputs": [],
   "source": [
    "#Create a Database\n",
    "\n",
    "\"use practicedb\""
   ]
  },
  {
   "cell_type": "code",
   "execution_count": null,
   "id": "7cbfd7d3",
   "metadata": {},
   "outputs": [],
   "source": [
    "#typing \"db\" into the terminal and pressing Enter, the name of the current active database is returned"
   ]
  },
  {
   "cell_type": "code",
   "execution_count": null,
   "id": "d804e36f",
   "metadata": {},
   "outputs": [],
   "source": [
    "#Insert Data\n"
   ]
  },
  {
   "cell_type": "code",
   "execution_count": null,
   "id": "5b526a34",
   "metadata": {},
   "outputs": [],
   "source": [
    "#The syntax follows: db.collectionName.insert({key:value}). Its components do the following:\n",
    "\n",
    "#db refers to the active database, practicedb.\n",
    "#collectionName is the name of the new collection we're creating (we'll customize it when we practice).\n",
    "#.insert({ }) is how MongoDB knows we're inserting data into the collection.\n",
    "#key:value is the format into which we're inserting our data; its construction is very similar to a Python dictionary.\n",
    "#In short, we're saying, \"Hey, Mongo, use the database we've already specified, and insert a document into this \n",
    "#collection. If there's not a collection named that, then create one.\"\n",
    "\n",
    "#Let's explore how this works a bit by adding some zoo animals to our collection.\n",
    "\n",
    "db.zoo.insert({name: 'Cleo', species: 'jaguar', age: 12, hobbies: ['sleeping', 'eating', 'climbing']})\n"
   ]
  },
  {
   "cell_type": "code",
   "execution_count": null,
   "id": "fe7b0fd4",
   "metadata": {},
   "outputs": [],
   "source": [
    "db.zoo.insert({name: 'Banzai', species: 'fox', age: 1, hobbies: ['sleeping', 'eating', 'playing']})"
   ]
  },
  {
   "cell_type": "code",
   "execution_count": null,
   "id": "27e4a519",
   "metadata": {},
   "outputs": [],
   "source": [
    "db.zoo.insert({name: 'Pikachu', species: 'mouse', age: 10, hobbies: ['shocking', 'eating', 'playing']})"
   ]
  },
  {
   "cell_type": "code",
   "execution_count": null,
   "id": "6368f7e8",
   "metadata": {},
   "outputs": [],
   "source": [
    "db.zoo.insert({name: 'Butterfree', species: 'butterfly', age: 7, hobbies: ['sleeping', 'flying', 'playing']})"
   ]
  },
  {
   "cell_type": "code",
   "execution_count": null,
   "id": "9af7dc4a",
   "metadata": {},
   "outputs": [],
   "source": [
    "db.zoo.insert({name: 'Meowth', species: 'cat', age: 14, hobbies: ['sleeping', 'eating', 'scratching']})"
   ]
  },
  {
   "cell_type": "code",
   "execution_count": null,
   "id": "030c1438",
   "metadata": {},
   "outputs": [],
   "source": [
    "Documents can also be deleted or dropped. The syntax to do so follows: db.collectionName.remove({}).\n",
    "\n",
    "So, if we wanted to remove Cleo from the database, we would update that line of code to:\n",
    "\n",
    "db.zoo.remove({name: 'Cleo'}).\n",
    "\n",
    "We can also empty the collection at once, instead of one document at a time. For example, to empty our pets collection, we would type: db.zoo.remove({}). Because the inner curly brackets are empty, Mongo will assume that we want everything in our pets collection to be removed.\n",
    "\n",
    "Additionally, to remove a collection all together, we would use db.zoo.drop(). After running that line in the shell, our pets collection will no longer exist at all.\n",
    "\n",
    "And to remove the test database, we will use this line of code: db.dropDatabase()."
   ]
  },
  {
   "cell_type": "code",
   "execution_count": null,
   "id": "4e313bc9",
   "metadata": {},
   "outputs": [],
   "source": [
    "db.zoo.remove({name: 'Pikachu'})"
   ]
  },
  {
   "cell_type": "code",
   "execution_count": null,
   "id": "9a7a595c",
   "metadata": {},
   "outputs": [],
   "source": [
    "db.zoo.remove({name: 'Butterfree'})"
   ]
  },
  {
   "cell_type": "code",
   "execution_count": null,
   "id": "898f4ce9",
   "metadata": {},
   "outputs": [],
   "source": [
    "db.zoo.remove({name: 'Meowth'})."
   ]
  }
 ],
 "metadata": {
  "kernelspec": {
   "display_name": "PythonData",
   "language": "python",
   "name": "pythondata"
  },
  "language_info": {
   "codemirror_mode": {
    "name": "ipython",
    "version": 3
   },
   "file_extension": ".py",
   "mimetype": "text/x-python",
   "name": "python",
   "nbconvert_exporter": "python",
   "pygments_lexer": "ipython3",
   "version": "3.8.8"
  }
 },
 "nbformat": 4,
 "nbformat_minor": 5
}
